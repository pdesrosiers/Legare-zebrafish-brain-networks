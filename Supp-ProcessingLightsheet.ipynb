{
 "cells": [
  {
   "cell_type": "markdown",
   "id": "ed1c092c",
   "metadata": {},
   "source": [
    "# Importing stuff"
   ]
  },
  {
   "cell_type": "code",
   "execution_count": 1,
   "id": "08d41d32",
   "metadata": {},
   "outputs": [],
   "source": [
    "from calimba.analysis.utilities import add_folder_to_path"
   ]
  },
  {
   "cell_type": "code",
   "execution_count": 2,
   "id": "dfd50873",
   "metadata": {},
   "outputs": [],
   "source": [
    "add_folder_to_path('/home/anleg84/GitHub/Calimba/')"
   ]
  },
  {
   "cell_type": "code",
   "execution_count": 3,
   "id": "be04af24",
   "metadata": {},
   "outputs": [
    {
     "name": "stderr",
     "output_type": "stream",
     "text": [
      "/home/anleg84/anaconda3/envs/calimba/lib/python3.9/site-packages/numba/np/ufunc/parallel.py:371: NumbaWarning: The TBB threading layer requires TBB version 2021 update 6 or later i.e., TBB_INTERFACE_VERSION >= 12060. Found TBB_INTERFACE_VERSION = 12050. The TBB threading layer is disabled.\n",
      "  warnings.warn(problem)\n"
     ]
    }
   ],
   "source": [
    "from timeseries import *\n",
    "from utilities import *\n",
    "from brainstates import *\n",
    "from visualization import *\n",
    "from data import *\n",
    "from atlas import *\n",
    "\n",
    "\n",
    "from pathlib import Path\n",
    "import sys\n",
    "import os\n",
    "import numpy as np\n",
    "import matplotlib.pyplot as plt\n",
    "import mat73\n",
    "\n",
    "plt.rcParams['font.size'] = 20"
   ]
  },
  {
   "cell_type": "code",
   "execution_count": 4,
   "id": "0dbd0e5e",
   "metadata": {},
   "outputs": [],
   "source": [
    "darkblue = \"#253C78\"\n",
    "emerald = \"#68D89B\"\n",
    "red = \"#F63E02\""
   ]
  },
  {
   "cell_type": "markdown",
   "id": "2069ea99",
   "metadata": {},
   "source": [
    "# Setting paths"
   ]
  },
  {
   "cell_type": "code",
   "execution_count": 5,
   "id": "508a4b6a",
   "metadata": {},
   "outputs": [],
   "source": [
    "valeria_path = '/home/anleg84/Documents/Valeria/Data/'\n",
    "results_path = '/home/anleg84/Documents/Code/NetworksPaper2023/Results/'\n",
    "figures_path = '/home/anleg84/Documents/Code/NetworksPaper2023/Figures/'\n",
    "atlas_path = '/home/anleg84/Documents/Atlas/Mapzebrain/'"
   ]
  },
  {
   "cell_type": "code",
   "execution_count": 6,
   "id": "3416b2e1",
   "metadata": {},
   "outputs": [],
   "source": [
    "atlas = MapzebrainAtlas(atlas_path)"
   ]
  },
  {
   "cell_type": "code",
   "execution_count": 7,
   "id": "f1add152",
   "metadata": {},
   "outputs": [
    {
     "data": {
      "text/plain": [
       "['/home/anleg84/Documents/Valeria/Data/2021-09-16-Wholebrain-8dpf/',\n",
       " '/home/anleg84/Documents/Valeria/Data/2021-09-21-Wholebrain-6dpf/',\n",
       " '/home/anleg84/Documents/Valeria/Data/2021-09-22-Wholebrain-7dpf/',\n",
       " '/home/anleg84/Documents/Valeria/Data/2022-01-18-Wholebrain-6dpf/',\n",
       " '/home/anleg84/Documents/Valeria/Data/2022-02-01-Wholebrain-6dpf/',\n",
       " '/home/anleg84/Documents/Valeria/Data/2022-02-02-Wholebrain-7dpf/',\n",
       " '/home/anleg84/Documents/Valeria/Data/2022-02-22-Wholebrain-6dpf/',\n",
       " '/home/anleg84/Documents/Valeria/Data/2022-02-23-Wholebrain-7dpf/',\n",
       " '/home/anleg84/Documents/Valeria/Data/2022-02-24-Wholebrain-8dpf/',\n",
       " '/home/anleg84/Documents/Valeria/Data/2022-04-12-Wholebrain-6dpf/',\n",
       " '/home/anleg84/Documents/Valeria/Data/2022-04-13-Wholebrain-7dpf/',\n",
       " '/home/anleg84/Documents/Valeria/Data/2022-07-26-Wholebrain-6dpf/',\n",
       " '/home/anleg84/Documents/Valeria/Data/2022-07-27-Wholebrain-7dpf/',\n",
       " '/home/anleg84/Documents/Valeria/Data/2022-09-20-Wholebrain-6dpf/',\n",
       " '/home/anleg84/Documents/Valeria/Data/2022-09-21-Wholebrain-7dpf/']"
      ]
     },
     "execution_count": 7,
     "metadata": {},
     "output_type": "execute_result"
    }
   ],
   "source": [
    "directories = identify_folders(valeria_path, ['dpf'])\n",
    "directories"
   ]
  },
  {
   "cell_type": "markdown",
   "id": "bc0961fd",
   "metadata": {},
   "source": [
    "# Setting paths to Ahrens data"
   ]
  },
  {
   "cell_type": "code",
   "execution_count": 8,
   "id": "d9d85ee9",
   "metadata": {},
   "outputs": [],
   "source": [
    "from scipy.io import loadmat"
   ]
  },
  {
   "cell_type": "code",
   "execution_count": 9,
   "id": "bf4704a9",
   "metadata": {},
   "outputs": [],
   "source": [
    "def get_stim_sequence(data):\n",
    "    list_of_arrays = list(data['sequence'][0])\n",
    "    sequence = []\n",
    "    for element in list_of_arrays:\n",
    "        sequence.append(element[0])\n",
    "    return np.array(sequence)\n",
    "\n",
    "def get_sequence_vector(data, stim):\n",
    "    stim_sequence = get_stim_sequence(data)\n",
    "    sequence_vector = np.zeros((data['timeSeries'].shape[1], ))\n",
    "    for i, s in enumerate(stim_sequence):\n",
    "        if s == stim:\n",
    "            sequence_vector[data['intervals'][i][0]:data['intervals'][i][1]] = 1\n",
    "    return sequence_vector"
   ]
  },
  {
   "cell_type": "code",
   "execution_count": 10,
   "id": "8722c9a9",
   "metadata": {},
   "outputs": [],
   "source": [
    "path = '/home/anleg84/Documents/Valeria/Data/Lightsheet-Ahrens/'\n",
    "files = identify_files(path, ['.mat'])"
   ]
  },
  {
   "cell_type": "code",
   "execution_count": 11,
   "id": "ae182181",
   "metadata": {},
   "outputs": [],
   "source": [
    "path_stack = '/home/anleg84/Documents/Data/Registration/Atlases/Registration-Atlases2/ZBrain_elavl3.nrrd'\n",
    "stack, _ = load_stack(path_stack)"
   ]
  },
  {
   "cell_type": "markdown",
   "id": "938e8c13",
   "metadata": {},
   "source": [
    "# Transforming centroids into Mapzebrain atlas"
   ]
  },
  {
   "cell_type": "markdown",
   "id": "41af8f69",
   "metadata": {},
   "source": [
    "The registration is imperfect at the dorso-caudal end of the hindbrain, but this should suffice for a first comparison. Registration will have to be re-done using multi-channel alignment."
   ]
  },
  {
   "cell_type": "markdown",
   "id": "8b0e1953",
   "metadata": {},
   "source": [
    "#### Single fish inspection"
   ]
  },
  {
   "cell_type": "code",
   "execution_count": 23,
   "id": "41af8893",
   "metadata": {},
   "outputs": [
    {
     "data": {
      "text/plain": [
       "(138, 621, 1406)"
      ]
     },
     "execution_count": 23,
     "metadata": {},
     "output_type": "execute_result"
    }
   ],
   "source": [
    "stack.shape"
   ]
  },
  {
   "cell_type": "code",
   "execution_count": 121,
   "id": "cb94fef2",
   "metadata": {},
   "outputs": [],
   "source": [
    "file = files[8]"
   ]
  },
  {
   "cell_type": "code",
   "execution_count": 122,
   "id": "57606cce",
   "metadata": {},
   "outputs": [],
   "source": [
    "try:\n",
    "    data = loadmat(path + file)\n",
    "except:\n",
    "    data = mat73.loadmat(path + file)"
   ]
  },
  {
   "cell_type": "code",
   "execution_count": 123,
   "id": "163c1192",
   "metadata": {},
   "outputs": [],
   "source": [
    "centroids = np.copy(data['XYZ'])"
   ]
  },
  {
   "cell_type": "code",
   "execution_count": 124,
   "id": "640c3c17",
   "metadata": {},
   "outputs": [],
   "source": [
    "centroids[:, 0] = 1406 - centroids[:, 0] # Flipping x axis\n",
    "#centroids[:, 1] = 621 - centroids[:, 1] # Flipping y axis\n",
    "centroids[:, 2] = 138 - centroids[:, 2] # Flipping z axis"
   ]
  },
  {
   "cell_type": "code",
   "execution_count": 127,
   "id": "afbd14f6",
   "metadata": {},
   "outputs": [],
   "source": [
    "%matplotlib inline"
   ]
  },
  {
   "cell_type": "code",
   "execution_count": 126,
   "id": "3bb1e07e",
   "metadata": {},
   "outputs": [
    {
     "data": {
      "text/plain": [
       "<matplotlib.collections.PathCollection at 0x7f80cb951b80>"
      ]
     },
     "execution_count": 126,
     "metadata": {},
     "output_type": "execute_result"
    }
   ],
   "source": [
    "plt.figure(figsize=(20, 10))\n",
    "plt.imshow(np.mean(stack, axis=0), cmap='gray')\n",
    "plt.scatter(centroids[:, 0], centroids[:, 1], alpha=0.1, color='red')\n",
    "#plt.xlim([200, 600])\n",
    "#plt.ylim([100, 500])"
   ]
  },
  {
   "cell_type": "markdown",
   "id": "c73f9d92",
   "metadata": {},
   "source": [
    "Batch transformation"
   ]
  },
  {
   "cell_type": "code",
   "execution_count": 128,
   "id": "9b27df61",
   "metadata": {},
   "outputs": [],
   "source": [
    "from registration.registration import *"
   ]
  },
  {
   "cell_type": "code",
   "execution_count": 129,
   "id": "2f95bd88",
   "metadata": {},
   "outputs": [],
   "source": [
    "ANTs.path = '/home/anleg84/Documents/ANTs/bin/'\n",
    "path_to_transforms = '/home/anleg84/Documents/Data/Registration/Atlases/Registration-Atlases2/'"
   ]
  },
  {
   "cell_type": "code",
   "execution_count": 130,
   "id": "5634247d",
   "metadata": {},
   "outputs": [
    {
     "name": "stdout",
     "output_type": "stream",
     "text": [
      "subject10.mat\n",
      "subject11.mat\n",
      "subject12.mat\n",
      "subject13.mat\n",
      "subject14.mat\n",
      "subject15.mat\n",
      "subject16.mat\n",
      "subject17.mat\n",
      "subject18.mat\n",
      "subject8.mat\n",
      "subject9.mat\n"
     ]
    }
   ],
   "source": [
    "for i, file in enumerate(files):\n",
    "    \n",
    "    print(file)\n",
    "    \n",
    "    subject = file.split('.')[0]\n",
    "    try:\n",
    "        data = loadmat(path + file)\n",
    "    except:\n",
    "        data = mat73.loadmat(path + file)\n",
    "        \n",
    "    centroids = data['XYZ']\n",
    "    \n",
    "    centroids[:, 0] = 1406 - centroids[:, 0] # Flipping x axis\n",
    "    centroids[:, 2] = 138 - centroids[:, 2] # Flipping z axis\n",
    "    \n",
    "    centroids[:, 0] = 0.7980005 * centroids[:, 0]\n",
    "    centroids[:, 1] = 0.7980005 * centroids[:, 1]\n",
    "    centroids[:, 2] = 2 * centroids[:, 2]\n",
    "    \n",
    "    write_coordinates_to_csv(path + 'coordinates_zbrain_{}.csv'.format(subject), centroids)\n",
    "    \n",
    "    ants = ANTs(path)\n",
    "    ants.applyTransformsToPoints_inverse('coordinates_zbrain_{}.csv'.format(subject),\n",
    "                                 'coordinates_mapzebrain_{}.csv'.format(subject),\n",
    "                                 path_to_transforms)"
   ]
  },
  {
   "cell_type": "markdown",
   "id": "44df8cf2",
   "metadata": {},
   "source": [
    "# Mapping centroids into Mapzebrain atlas"
   ]
  },
  {
   "cell_type": "code",
   "execution_count": 131,
   "id": "c2f9f7b0",
   "metadata": {},
   "outputs": [],
   "source": [
    "atlas = MapzebrainAtlas(atlas_path)"
   ]
  },
  {
   "cell_type": "code",
   "execution_count": 133,
   "id": "7b9f0a53",
   "metadata": {
    "scrolled": true
   },
   "outputs": [
    {
     "name": "stdout",
     "output_type": "stream",
     "text": [
      "Loading centroids...\n",
      "Mapping neurons in brain regions...\n",
      "100%|███████████████████████████████████████████| 70/70 [00:28<00:00,  2.43it/s]\n",
      "Saving data...\n",
      "Loading centroids...\n",
      "Mapping neurons in brain regions...\n",
      "100%|███████████████████████████████████████████| 70/70 [00:27<00:00,  2.57it/s]\n",
      "Saving data...\n",
      "Loading centroids...\n",
      "Mapping neurons in brain regions...\n",
      "100%|███████████████████████████████████████████| 70/70 [00:27<00:00,  2.56it/s]\n",
      "Saving data...\n",
      "Loading centroids...\n",
      "Mapping neurons in brain regions...\n",
      "100%|███████████████████████████████████████████| 70/70 [00:27<00:00,  2.55it/s]\n",
      "Saving data...\n",
      "Loading centroids...\n",
      "Mapping neurons in brain regions...\n",
      "100%|███████████████████████████████████████████| 70/70 [00:27<00:00,  2.56it/s]\n",
      "Saving data...\n",
      "Loading centroids...\n",
      "Mapping neurons in brain regions...\n",
      "100%|███████████████████████████████████████████| 70/70 [00:27<00:00,  2.55it/s]\n",
      "Saving data...\n",
      "Loading centroids...\n",
      "Mapping neurons in brain regions...\n",
      "100%|███████████████████████████████████████████| 70/70 [00:27<00:00,  2.58it/s]\n",
      "Saving data...\n",
      "Loading centroids...\n",
      "Mapping neurons in brain regions...\n",
      "100%|███████████████████████████████████████████| 70/70 [00:27<00:00,  2.57it/s]\n",
      "Saving data...\n",
      "Loading centroids...\n",
      "Mapping neurons in brain regions...\n",
      "100%|███████████████████████████████████████████| 70/70 [00:27<00:00,  2.58it/s]\n",
      "Saving data...\n",
      "Loading centroids...\n",
      "Mapping neurons in brain regions...\n",
      "100%|███████████████████████████████████████████| 70/70 [00:27<00:00,  2.57it/s]\n",
      "Saving data...\n",
      "Loading centroids...\n",
      "Mapping neurons in brain regions...\n",
      "100%|███████████████████████████████████████████| 70/70 [00:27<00:00,  2.54it/s]\n",
      "Saving data...\n"
     ]
    }
   ],
   "source": [
    "for i, file in enumerate(files):\n",
    "                    \n",
    "    subject = file.split('.')[0]\n",
    "\n",
    "    print('Loading centroids...')\n",
    "    coordinates = load_coordinates_csv(path + 'coordinates_mapzebrain_{}.csv'.format(subject))\n",
    "    centroids = rescale_centroids(coordinates, [0.9939617, 0.9940714, 1.9944444])\n",
    "    centroids[:, 2] *= 359/180 # Atlas was scaled 0.5 along y-axis\n",
    "    centroids = centroids.astype('int')\n",
    "\n",
    "    print('Mapping neurons in brain regions...')\n",
    "    region_labels = atlas.mapCentroids(centroids, orientation='horizontal')\n",
    "\n",
    "    print('Saving data...')\n",
    "    np.save(path + 'centroids_mapzebrain_{}.npy'.format(subject), centroids)\n",
    "    np.save(path + 'region_labels_mapzebrain_{}.npy'.format(subject), region_labels)"
   ]
  },
  {
   "cell_type": "code",
   "execution_count": null,
   "id": "7b804854",
   "metadata": {},
   "outputs": [],
   "source": []
  }
 ],
 "metadata": {
  "kernelspec": {
   "display_name": "Python 3 (ipykernel)",
   "language": "python",
   "name": "python3"
  },
  "language_info": {
   "codemirror_mode": {
    "name": "ipython",
    "version": 3
   },
   "file_extension": ".py",
   "mimetype": "text/x-python",
   "name": "python",
   "nbconvert_exporter": "python",
   "pygments_lexer": "ipython3",
   "version": "3.9.19"
  }
 },
 "nbformat": 4,
 "nbformat_minor": 5
}
