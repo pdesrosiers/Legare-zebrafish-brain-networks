{
 "cells": [
  {
   "cell_type": "code",
   "execution_count": 1,
   "id": "d13cd97c-874b-41a5-ab87-cfeb30b21c6b",
   "metadata": {},
   "outputs": [],
   "source": [
    "from main import *\n",
    "from useful_functions import *\n",
    "from visualization import *\n",
    "\n",
    "import bct\n",
    "import hdbscan\n",
    "from sklearn.manifold import TSNE\n",
    "\n",
    "%matplotlib inline\n",
    "plt.rcParams['font.size'] = 6"
   ]
  },
  {
   "cell_type": "markdown",
   "id": "ffa4a373-dde8-47a1-bca0-29f1af39c82a",
   "metadata": {},
   "source": [
    "# Setting paths"
   ]
  },
  {
   "cell_type": "code",
   "execution_count": 2,
   "id": "f089c651-e99c-4db6-91cb-b78f0db7eb6e",
   "metadata": {},
   "outputs": [],
   "source": [
    "top_directory = '/media/anleg84/Backup Plus/CERVO/Data/Networks2024/'\n",
    "atlas_path = '/home/anleg84/Documents/Atlas/Mapzebrain/'"
   ]
  },
  {
   "cell_type": "code",
   "execution_count": 3,
   "id": "ff803bc9-e167-4188-a62a-c043f6fec8cb",
   "metadata": {},
   "outputs": [],
   "source": [
    "atlas = MapzebrainAtlas(atlas_path)\n",
    "centroids = np.concatenate([atlas.regionCentroids['left'], atlas.regionCentroids['right']], axis=0)\n",
    "centroids[:, 1] = 974 - centroids[:, 1]"
   ]
  },
  {
   "cell_type": "code",
   "execution_count": 4,
   "id": "62c609dc-35f5-452c-964c-200251963d90",
   "metadata": {},
   "outputs": [
    {
     "name": "stdout",
     "output_type": "stream",
     "text": [
      "22\n"
     ]
    }
   ],
   "source": [
    "datasets = get_datasets(top_directory, keywords=['920nm'], exclude=[])\n",
    "print(len(datasets))"
   ]
  },
  {
   "cell_type": "markdown",
   "id": "ad7a4ee0-fe37-49c7-90e6-fcfc46be9aa6",
   "metadata": {},
   "source": [
    "# Delta F / F stack"
   ]
  },
  {
   "cell_type": "code",
   "execution_count": 6,
   "id": "6b5b1183-04e8-4776-a462-6b439f36450e",
   "metadata": {},
   "outputs": [],
   "source": [
    "import numpy as np\n",
    "import multiprocessing as mp\n",
    "from scipy.signal import detrend\n",
    "\n",
    "def process_pixel_series(pixel_series):\n",
    "    bp = np.linspace(0, len(pixel_series), 3, endpoint=True).astype('int')\n",
    "    processed_series = detrend(gaussian_filter1d(pixel_series, 2), bp=bp)\n",
    "    return processed_series\n",
    "\n",
    "def worker(pixel_series_chunk):\n",
    "    return [process_pixel_series(series) for series in pixel_series_chunk]\n",
    "\n",
    "def parallel_detrend_stack(stack_data, N_processes=None):\n",
    "    T, X, Y = stack_data.shape\n",
    "    reshaped_stack = stack_data.reshape(T, X*Y)\n",
    "    if N_processes is None:\n",
    "        N_processes = mp.cpu_count()\n",
    "    pixel_chunks = np.array_split(reshaped_stack.T, N_processes)\n",
    "    pool = mp.Pool(processes=N_processes)\n",
    "    processed_chunks = pool.map(worker, pixel_chunks)\n",
    "    pool.close()\n",
    "    pool.join()\n",
    "    processed_stack = np.concatenate(processed_chunks).T.reshape(T, X, Y)\n",
    "    return processed_stack"
   ]
  },
  {
   "cell_type": "code",
   "execution_count": null,
   "id": "30f53b47-aac6-4f51-ae7b-4485c65c1a42",
   "metadata": {},
   "outputs": [
    {
     "name": "stdout",
     "output_type": "stream",
     "text": [
      "100%|███████████████████████████████████████████| 21/21 [13:18<00:00, 38.02s/it]\n",
      "100%|████████████████████████████████████████| 21/21 [5:14:07<00:00, 897.51s/it]\n",
      "100%|███████████████████████████████████████████| 21/21 [13:45<00:00, 39.33s/it]\n",
      "100%|███████████████████████████████████████████| 21/21 [13:53<00:00, 39.71s/it]\n",
      "100%|███████████████████████████████████████████| 21/21 [14:00<00:00, 40.02s/it]\n",
      "100%|███████████████████████████████████████████| 21/21 [14:18<00:00, 40.89s/it]\n",
      "100%|███████████████████████████████████████████| 21/21 [13:53<00:00, 39.68s/it]\n",
      "100%|███████████████████████████████████████████| 21/21 [13:41<00:00, 39.12s/it]\n",
      "100%|███████████████████████████████████████████| 21/21 [13:33<00:00, 38.76s/it]\n",
      "100%|███████████████████████████████████████████| 21/21 [13:37<00:00, 38.92s/it]\n",
      " 95%|████████████████████████████████████████▉  | 20/21 [13:22<00:40, 40.63s/it]"
     ]
    }
   ],
   "source": [
    "for folder in datasets:\n",
    "    if not any(identify_files(folder, ['dff_corrected_', '.tif'])):\n",
    "        files = identify_files(folder, ['corrected', '.tif'])\n",
    "        for file in tqdm(files, file=sys.stdout):\n",
    "            stack = load_stack(folder + file).astype('float32')\n",
    "            stack = parallel_dff_stack(stack, N_processes=30)\n",
    "            stack[stack < 0] = 0\n",
    "            stack -= np.min(stack)\n",
    "            stack /= np.max(stack)\n",
    "            stack *= 65535\n",
    "            save_stack(folder + 'dff_' + file, stack)"
   ]
  },
  {
   "cell_type": "markdown",
   "id": "aed5cccd-064a-480d-9728-0066cd6e34a1",
   "metadata": {},
   "source": [
    "# Projections"
   ]
  },
  {
   "cell_type": "code",
   "execution_count": 7,
   "id": "8ba0d730-20e9-4e32-8428-242dd8520797",
   "metadata": {},
   "outputs": [],
   "source": [
    "from calimba.analysis.data import *"
   ]
  },
  {
   "cell_type": "code",
   "execution_count": 12,
   "id": "9ed34d32-af22-40bf-aad5-3333d59c8258",
   "metadata": {},
   "outputs": [],
   "source": [
    "def get_multiplane_projections(directory, start=0, N_frames=None, batch_size=25, scale=(1, 1, 1), scale_side=5,\n",
    "                               filter_noise=False, keywords=None, plane_marker='#'):\n",
    "    b = batch_size\n",
    "    if N_frames is None:\n",
    "        if keywords is not None:\n",
    "            files = identify_files(directory, keywords + ['.tif'])\n",
    "        else:\n",
    "            files = identify_files(directory, ['.tif'])\n",
    "        image = Image.open(directory + files[0])\n",
    "        N_frames = image.n_frames\n",
    "    N_b = int(N_frames / b)\n",
    "\n",
    "    frames_top = []\n",
    "\n",
    "    for i in tqdm(range(N_b), file=sys.stdout):\n",
    "        frame_ids = np.linspace(start + i * b, start + (i * b) + b - 1, b).astype('int')\n",
    "        volumes = load_volumes(directory, frame_ids, keywords=keywords, plane_marker=plane_marker)\n",
    "        frames_top.append(np.max(volumes, axis=1))\n",
    "        \n",
    "    frames_top = np.concatenate(frames_top, axis=0)\n",
    "\n",
    "    frames_top = frames_top.astype('double')\n",
    "    frames_top -= np.amin(frames_top)\n",
    "    frames_top /= np.amax(frames_top)\n",
    "    frames_top *= 255\n",
    "\n",
    "    return frames_top.astype('uint8')"
   ]
  },
  {
   "cell_type": "code",
   "execution_count": 13,
   "id": "894205a9-17ac-456b-a9d1-b729ab804008",
   "metadata": {},
   "outputs": [],
   "source": [
    "folder = datasets[7]"
   ]
  },
  {
   "cell_type": "code",
   "execution_count": 14,
   "id": "3e27a544-bd14-4041-88d9-88b317cae5e5",
   "metadata": {},
   "outputs": [
    {
     "name": "stdout",
     "output_type": "stream",
     "text": [
      "100%|███████████████████████████████████████████| 35/35 [02:25<00:00,  4.17s/it]\n"
     ]
    }
   ],
   "source": [
    "proj1 = get_multiplane_projections(folder, keywords=['dff_corrected', '.tif'])"
   ]
  },
  {
   "cell_type": "code",
   "execution_count": 15,
   "id": "33d08646-ffe7-480f-8fee-fe03ca1eeb89",
   "metadata": {},
   "outputs": [],
   "source": [
    "save_stack('projection_top.tif', proj1)"
   ]
  },
  {
   "cell_type": "markdown",
   "id": "b9a0b4e5-5c5d-4a38-aeff-5d03e1b96277",
   "metadata": {},
   "source": [
    "# Generating brain activity gif"
   ]
  },
  {
   "cell_type": "code",
   "execution_count": 249,
   "id": "d089da7d-6287-48f6-ad75-a724b5f37383",
   "metadata": {},
   "outputs": [],
   "source": [
    "from PIL import Image"
   ]
  },
  {
   "cell_type": "code",
   "execution_count": 253,
   "id": "1465fe26-8e89-42f2-bda3-e8ea3ec6b73f",
   "metadata": {},
   "outputs": [],
   "source": [
    "def figure_to_array(fig):\n",
    "    fig.canvas.draw()\n",
    "    w, h = fig.canvas.get_width_height()\n",
    "    array = np.fromstring(fig.canvas.tostring_argb(), dtype=np.uint8)\n",
    "    array.shape = (h, w, 4)\n",
    "    array = np.roll(array, 3, axis=2)\n",
    "    return array\n",
    "\n",
    "\n",
    "def save_figures_as_gif(path, figures, fps=30):\n",
    "    images = []\n",
    "    for figure in figures:\n",
    "        array = figure_to_array(figure)\n",
    "        image = Image.fromarray(array)\n",
    "        images.append(image)\n",
    "    images[0].save(path, save_all=True, append_images=images[1:], optimize=False, duration=1000/fps, loop=0)"
   ]
  },
  {
   "cell_type": "code",
   "execution_count": 263,
   "id": "82dd45b6-1025-40ff-bf2f-88b12aef24e0",
   "metadata": {},
   "outputs": [
    {
     "name": "stdout",
     "output_type": "stream",
     "text": [
      "100%|█████████████████████████████████████████| 892/892 [00:16<00:00, 53.52it/s]\n"
     ]
    },
    {
     "name": "stderr",
     "output_type": "stream",
     "text": [
      "/tmp/ipykernel_27729/4288959989.py:4: DeprecationWarning: The binary mode of fromstring is deprecated, as it behaves surprisingly on unicode inputs. Use frombuffer instead\n",
      "  array = np.fromstring(fig.canvas.tostring_argb(), dtype=np.uint8)\n"
     ]
    }
   ],
   "source": [
    "for j in range(len(rseries)):\n",
    "\n",
    "    if j == 15:\n",
    "    \n",
    "        timeseries = rseries[j]\n",
    "        \n",
    "        figures = []\n",
    "        for i in tqdm(range(timeseries.shape[1]), file=sys.stdout):\n",
    "            \n",
    "            state = timeseries[:, i]\n",
    "            CAP = state.reshape(R, 1) @ state.reshape(1, R)\n",
    "            \n",
    "            fig, ax = plt.subplots(figsize=(3, 3))\n",
    "            plot_matrix_communities(ax, CAP, communities, vmin=-5, vmax=5)\n",
    "            ax.set_title(r\"$t={}$ s\".format(i))\n",
    "            plt.close()\n",
    "        \n",
    "            figures.append(fig)\n",
    "        \n",
    "        save_figures_as_gif('Gifs/dynamic_FC_fish{}.gif'.format(j + 1), figures, fps=50)"
   ]
  },
  {
   "cell_type": "code",
   "execution_count": null,
   "id": "fb7e6493-e72b-41bb-9426-83dbe57cc061",
   "metadata": {},
   "outputs": [],
   "source": []
  }
 ],
 "metadata": {
  "kernelspec": {
   "display_name": "Python 3 (ipykernel)",
   "language": "python",
   "name": "python3"
  },
  "language_info": {
   "codemirror_mode": {
    "name": "ipython",
    "version": 3
   },
   "file_extension": ".py",
   "mimetype": "text/x-python",
   "name": "python",
   "nbconvert_exporter": "python",
   "pygments_lexer": "ipython3",
   "version": "3.9.18"
  }
 },
 "nbformat": 4,
 "nbformat_minor": 5
}
