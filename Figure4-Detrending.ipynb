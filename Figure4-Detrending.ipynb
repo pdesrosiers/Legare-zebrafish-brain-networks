{
 "cells": [
  {
   "cell_type": "code",
   "execution_count": 1,
   "id": "d13cd97c-874b-41a5-ab87-cfeb30b21c6b",
   "metadata": {},
   "outputs": [],
   "source": [
    "from main import *\n",
    "from visualization import *\n",
    "\n",
    "import bct\n",
    "import hdbscan\n",
    "from sklearn.manifold import TSNE\n",
    "\n",
    "%matplotlib inline\n",
    "plt.rcParams['font.size'] = 6"
   ]
  },
  {
   "cell_type": "markdown",
   "id": "ffa4a373-dde8-47a1-bca0-29f1af39c82a",
   "metadata": {},
   "source": [
    "# Setting paths"
   ]
  },
  {
   "cell_type": "code",
   "execution_count": 2,
   "id": "f089c651-e99c-4db6-91cb-b78f0db7eb6e",
   "metadata": {},
   "outputs": [],
   "source": [
    "top_directory = '/media/anleg84/Backup Plus/CERVO/Data/Networks2024/'\n",
    "atlas_path = '/home/anleg84/Documents/Atlas/Mapzebrain/'"
   ]
  },
  {
   "cell_type": "code",
   "execution_count": 3,
   "id": "ff803bc9-e167-4188-a62a-c043f6fec8cb",
   "metadata": {},
   "outputs": [],
   "source": [
    "atlas = MapzebrainAtlas(atlas_path)\n",
    "centroids = np.concatenate([atlas.regionCentroids['left'], atlas.regionCentroids['right']], axis=0)\n",
    "centroids[:, 1] = 974 - centroids[:, 1]"
   ]
  },
  {
   "cell_type": "code",
   "execution_count": 4,
   "id": "62c609dc-35f5-452c-964c-200251963d90",
   "metadata": {},
   "outputs": [
    {
     "name": "stdout",
     "output_type": "stream",
     "text": [
      "22\n"
     ]
    }
   ],
   "source": [
    "datasets = get_datasets(top_directory, keywords=['920nm'], exclude=[])\n",
    "print(len(datasets))"
   ]
  },
  {
   "cell_type": "markdown",
   "id": "ad7a4ee0-fe37-49c7-90e6-fcfc46be9aa6",
   "metadata": {},
   "source": [
    "# Delta F / F stack"
   ]
  },
  {
   "cell_type": "markdown",
   "id": "c3a9b7b5-db34-464c-8ef3-1727ba912a3f",
   "metadata": {},
   "source": [
    "This notebook goes through every raw data folder and generates a 'detrended' `.tif` file for each calcium imaging plane. These detrended videos are used in the `Figure4` notebook to transform calcium imaging frames into the brain atlas to visualize coactivation event cluster centroids."
   ]
  },
  {
   "cell_type": "code",
   "execution_count": 6,
   "id": "6b5b1183-04e8-4776-a462-6b439f36450e",
   "metadata": {},
   "outputs": [],
   "source": [
    "import numpy as np\n",
    "import multiprocessing as mp\n",
    "from scipy.signal import detrend\n",
    "\n",
    "def process_pixel_series(pixel_series):\n",
    "    bp = np.linspace(0, len(pixel_series), 3, endpoint=True).astype('int')\n",
    "    processed_series = detrend(gaussian_filter1d(pixel_series, 2), bp=bp)\n",
    "    return processed_series\n",
    "\n",
    "def worker(pixel_series_chunk):\n",
    "    return [process_pixel_series(series) for series in pixel_series_chunk]\n",
    "\n",
    "def parallel_detrend_stack(stack_data, N_processes=None):\n",
    "    T, X, Y = stack_data.shape\n",
    "    reshaped_stack = stack_data.reshape(T, X*Y)\n",
    "    if N_processes is None:\n",
    "        N_processes = mp.cpu_count()\n",
    "    pixel_chunks = np.array_split(reshaped_stack.T, N_processes)\n",
    "    pool = mp.Pool(processes=N_processes)\n",
    "    processed_chunks = pool.map(worker, pixel_chunks)\n",
    "    pool.close()\n",
    "    pool.join()\n",
    "    processed_stack = np.concatenate(processed_chunks).T.reshape(T, X, Y)\n",
    "    return processed_stack"
   ]
  },
  {
   "cell_type": "code",
   "execution_count": null,
   "id": "30f53b47-aac6-4f51-ae7b-4485c65c1a42",
   "metadata": {},
   "outputs": [
    {
     "name": "stdout",
     "output_type": "stream",
     "text": [
      "100%|███████████████████████████████████████████| 21/21 [13:18<00:00, 38.02s/it]\n",
      "100%|████████████████████████████████████████| 21/21 [5:14:07<00:00, 897.51s/it]\n",
      "100%|███████████████████████████████████████████| 21/21 [13:45<00:00, 39.33s/it]\n",
      "100%|███████████████████████████████████████████| 21/21 [13:53<00:00, 39.71s/it]\n",
      "100%|███████████████████████████████████████████| 21/21 [14:00<00:00, 40.02s/it]\n",
      "100%|███████████████████████████████████████████| 21/21 [14:18<00:00, 40.89s/it]\n",
      "100%|███████████████████████████████████████████| 21/21 [13:53<00:00, 39.68s/it]\n",
      "100%|███████████████████████████████████████████| 21/21 [13:41<00:00, 39.12s/it]\n",
      "100%|███████████████████████████████████████████| 21/21 [13:33<00:00, 38.76s/it]\n",
      "100%|███████████████████████████████████████████| 21/21 [13:37<00:00, 38.92s/it]\n",
      " 95%|████████████████████████████████████████▉  | 20/21 [13:22<00:40, 40.63s/it]"
     ]
    }
   ],
   "source": [
    "for folder in datasets:\n",
    "    if not any(identify_files(folder, ['dff_corrected_', '.tif'])):\n",
    "        files = identify_files(folder, ['corrected', '.tif'])\n",
    "        for file in tqdm(files, file=sys.stdout):\n",
    "            stack = load_stack(folder + file).astype('float32')\n",
    "            stack = parallel_dff_stack(stack, N_processes=30)\n",
    "            stack[stack < 0] = 0\n",
    "            stack -= np.min(stack)\n",
    "            stack /= np.max(stack)\n",
    "            stack *= 65535\n",
    "            save_stack(folder + 'dff_' + file, stack)"
   ]
  },
  {
   "cell_type": "code",
   "execution_count": null,
   "id": "fb7e6493-e72b-41bb-9426-83dbe57cc061",
   "metadata": {},
   "outputs": [],
   "source": []
  }
 ],
 "metadata": {
  "kernelspec": {
   "display_name": "Python 3 (ipykernel)",
   "language": "python",
   "name": "python3"
  },
  "language_info": {
   "codemirror_mode": {
    "name": "ipython",
    "version": 3
   },
   "file_extension": ".py",
   "mimetype": "text/x-python",
   "name": "python",
   "nbconvert_exporter": "python",
   "pygments_lexer": "ipython3",
   "version": "3.9.19"
  }
 },
 "nbformat": 4,
 "nbformat_minor": 5
}
